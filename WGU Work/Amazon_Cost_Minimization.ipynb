{
  "cells": [
    {
      "cell_type": "code",
      "execution_count": null,
      "metadata": {},
      "outputs": [],
      "source": [
        "# Dalvin Colbert\n",
        "# # D605 – Optimization\n",
        "# # # BRN1 Task 3: Identification of the Objective Function and Constraints\n"
      ]
    },
    {
      "cell_type": "code",
      "execution_count": 155,
      "metadata": {
        "colab": {
          "base_uri": "https://localhost:8080/"
        },
        "id": "i4QR-xLHSvfv",
        "outputId": "71be777e-703b-440e-bda0-9c48328e78d7"
      },
      "outputs": [
        {
          "name": "stdout",
          "output_type": "stream",
          "text": [
            "Requirement already satisfied: pulp in /usr/local/lib/python3.11/dist-packages (3.0.2)\n"
          ]
        }
      ],
      "source": [
        "!pip install pulp"
      ]
    },
    {
      "cell_type": "code",
      "execution_count": 156,
      "metadata": {
        "id": "Wgo1XMvYSyeY"
      },
      "outputs": [],
      "source": [
        "import numpy as np\n",
        "import pandas as pd\n",
        "import matplotlib.pyplot as plt\n",
        "import seaborn as sns\n",
        "import pulp\n",
        "import warnings\n",
        "warnings.filterwarnings(\"ignore\")\n"
      ]
    },
    {
      "cell_type": "code",
      "execution_count": 157,
      "metadata": {
        "id": "JkqgI4RNS-VU"
      },
      "outputs": [],
      "source": [
        "hub = pd.read_csv(\"FocusCity_Hub.csv\")\n",
        "centers_dist = pd.read_csv(\"Center Distribution.csv\", index_col=0)\n",
        "cent_demand = pd.read_csv(\"Centers_Demand.csv\")\n",
        "supp_dist = pd.read_csv(\"Supplier Distribution.csv\")\n",
        "\n"
      ]
    },
    {
      "cell_type": "code",
      "execution_count": 158,
      "metadata": {
        "id": "dQUFxAubTYVb"
      },
      "outputs": [],
      "source": [
        "# Nullify\n",
        "centers_dist = centers_dist.fillna(0)\n",
        "cent_demand = cent_demand.fillna(0)\n",
        "supp_dist = supp_dist.fillna(0)\n"
      ]
    },
    {
      "cell_type": "code",
      "execution_count": 159,
      "metadata": {
        "id": "pl4wM6kIXZb6"
      },
      "outputs": [],
      "source": [
        "\n",
        "# Define the problem\n",
        "prob = pulp.LpProblem(\"Amazon Distribution Problem\", pulp.LpMinimize)\n",
        "\n",
        "# Define sets\n",
        "hubs = ['CVG', 'AFW']\n",
        "focus_cities = ['Leipzig', 'Hyderabad', 'San Bernardino']\n",
        "centers = ['Paris', 'Cologne', 'Hanover', 'Bangalore', 'Coimbatore', 'Delhi', 'Mumbai', 'Cagliari', 'Catania', 'Milan', 'Rome', 'Katowice', 'Barcelona', 'Madrid', 'Castle Donington', 'London', 'Mobile', 'Anchorage', 'Fairbanks', 'Phoenix', 'Los Angeles', 'Ontario', 'Riverside', 'Sacramento', 'San Francisco', 'Stockton', 'Denver', 'Hartford', 'Miami', 'Lakeland', 'Tampa', 'Atlanta', 'Honolulu', 'Kahului/Maui', 'Kona', 'Chicago', 'Rockford', 'Fort Wayne', 'South Bend', 'Des Moines', 'Wichita', 'New Orleans', 'Baltimore', 'Minneapolis', 'Kansas City', 'St. Louis', 'Omaha', 'Manchester', 'Albuquerque', 'New York', 'Charlotte', 'Toledo', 'Wilmington', 'Portland', 'Allentown', 'Pittsburgh', 'San Juan', 'Nashville', 'Austin', 'Dallas', 'Houston', 'San Antonio', 'Richmond', 'Seattle/Tacoma', 'Spokane']\n",
        "\n",
        "# Define capacities (in tons)\n",
        "capacities = {\n",
        "    'CVG': 95650, 'AFW': 44350,\n",
        "    'Leipzig': 85000, 'Hyderabad': 19000, 'San Bernardino': 36000\n",
        "}"
      ]
    },
    {
      "cell_type": "code",
      "execution_count": 160,
      "metadata": {
        "id": "dZVOfaCUXr9d"
      },
      "outputs": [],
      "source": [
        "# Define demands (in tons)\n",
        "demands = {\n",
        "    'Paris': 6500, 'Cologne': 640, 'Hanover': 180, 'Bangalore': 9100, 'Coimbatore': 570,\n",
        "    'Delhi': 19000, 'Mumbai': 14800, 'Cagliari': 90, 'Catania': 185, 'Milan': 800,\n",
        "    'Rome': 1700, 'Katowice': 170, 'Barcelona': 2800, 'Madrid': 3700, 'Castle Donington': 30,\n",
        "    'London': 6700, 'Mobile': 190, 'Anchorage': 175, 'Fairbanks': 38, 'Phoenix': 2400,\n",
        "    'Los Angeles': 7200, 'Ontario': 100, 'Riverside': 1200, 'Sacramento': 1100,\n",
        "    'San Francisco': 1900, 'Stockton': 240, 'Denver': 1500, 'Hartford': 540, 'Miami': 3400,\n",
        "    'Lakeland': 185, 'Tampa': 1600, 'Atlanta': 3000, 'Honolulu': 500, 'Kahului/Maui': 16,\n",
        "    'Kona': 63, 'Chicago': 5100, 'Rockford': 172, 'Fort Wayne': 200, 'South Bend': 173,\n",
        "    'Des Moines': 300, 'Wichita': 290, 'New Orleans': 550, 'Baltimore': 1300,\n",
        "    'Minneapolis': 1700, 'Kansas City': 975, 'St. Louis': 1200, 'Omaha': 480,\n",
        "    'Manchester': 100, 'Albuquerque': 450, 'New York': 11200, 'Charlotte': 900,\n",
        "    'Toledo': 290, 'Wilmington': 150, 'Portland': 1200, 'Allentown': 420,\n",
        "    'Pittsburgh': 1000, 'San Juan': 1100, 'Nashville': 650, 'Austin': 975,\n",
        "    'Dallas': 3300, 'Houston': 3300, 'San Antonio': 1100, 'Richmond': 600,\n",
        "    'Seattle/Tacoma': 2000, 'Spokane': 260\n",
        "}"
      ]
    },
    {
      "cell_type": "code",
      "execution_count": 161,
      "metadata": {
        "id": "7SyA_NIFMUIx"
      },
      "outputs": [],
      "source": [
        "city_costs = dict(zip(cent_demand['City'], cent_demand['Demand']))\n"
      ]
    },
    {
      "cell_type": "code",
      "execution_count": 162,
      "metadata": {
        "colab": {
          "base_uri": "https://localhost:8080/"
        },
        "id": "_C8DzCCAh54Q",
        "outputId": "f1acc7ea-6f90-4d95-d379-8e08bacd0ea6"
      },
      "outputs": [
        {
          "data": {
            "text/plain": [
              "{'Paris': '6,500',\n",
              " 'Cologne': '640',\n",
              " 'Hanover': '180',\n",
              " 'Bangalore\\xa0': '9,100',\n",
              " 'Coimbatore': '570',\n",
              " 'Delhi': '19,000',\n",
              " 'Mumbai': '14,800',\n",
              " 'Cagliari': '90',\n",
              " 'Catania': '185',\n",
              " 'Milan': '800',\n",
              " 'Rome': '1,700',\n",
              " 'Katowice': '170',\n",
              " 'Barcelona': '2,800',\n",
              " 'Madrid': '3,700',\n",
              " 'Castle Donington': '30',\n",
              " 'London': '6,700',\n",
              " 'Mobile': '190',\n",
              " 'Anchorage': '175',\n",
              " 'Fairbanks': '38',\n",
              " 'Phoenix': '2,400',\n",
              " 'Los Angeles': '7,200',\n",
              " 'Ontario': '100',\n",
              " 'Riverside': '1,200',\n",
              " 'Sacramento': '1,100',\n",
              " 'San Francisco': '1,900',\n",
              " 'Stockton': '240',\n",
              " 'Denver': '1,500',\n",
              " 'Hartford': '540',\n",
              " 'Miami': '3,400',\n",
              " 'Lakeland': '185',\n",
              " 'Tampa': '1,600',\n",
              " 'Atlanta': '3,000',\n",
              " 'Honolulu': '500',\n",
              " 'Kahului/Maui': '16',\n",
              " 'Kona': '63',\n",
              " 'Chicago': '5,100',\n",
              " 'Rockford': '172',\n",
              " 'Fort Wayne': '200',\n",
              " 'South Bend': '173',\n",
              " 'Des Moines': '300',\n",
              " 'Wichita': '290',\n",
              " 'New Orleans': '550',\n",
              " 'Baltimore': '1,300',\n",
              " 'Minneapolis': '1,700',\n",
              " 'Kansas City': '975',\n",
              " 'St. Louis': '1,200',\n",
              " 'Omaha': '480',\n",
              " 'Manchester': '100',\n",
              " 'Albuquerque': '450',\n",
              " 'New York': '11,200',\n",
              " 'Charlotte': '900',\n",
              " 'Toledo': '290',\n",
              " 'Wilmington': '150',\n",
              " 'Portland': '1,200',\n",
              " 'Allentown': '420',\n",
              " 'Pittsburgh': '1,000',\n",
              " 'San Juan': '1,100',\n",
              " 'Nashville': '650',\n",
              " 'Austin': '975',\n",
              " 'Dallas': '3,300',\n",
              " 'Houston': '3,300',\n",
              " 'San Antonio': '1,100',\n",
              " 'Richmond': '600',\n",
              " 'Seattle/Tacoma': '2,000',\n",
              " 'Spokane': '260'}"
            ]
          },
          "execution_count": 162,
          "metadata": {},
          "output_type": "execute_result"
        }
      ],
      "source": [
        "city_costs"
      ]
    },
    {
      "cell_type": "code",
      "execution_count": 163,
      "metadata": {
        "colab": {
          "base_uri": "https://localhost:8080/"
        },
        "id": "EYSDawLL9QS2",
        "outputId": "82e1e428-6afe-4ebe-cf54-d9353777f5fb"
      },
      "outputs": [
        {
          "name": "stdout",
          "output_type": "stream",
          "text": [
            "{('Paris', 'Cincinnati'): 1.6, ('Paris', 'Alliance'): 0.0, ('Paris', 'Leipzig'): 0.5, ('Paris', 'Hyderabad'): 1.1, ('Paris', 'San Bernadino'): 0.0, ('Cologne', 'Cincinnati'): 1.5, ('Cologne', 'Alliance'): 0.0, ('Cologne', 'Leipzig'): 0.5, ('Cologne', 'Hyderabad'): 1.0, ('Cologne', 'San Bernadino'): 0.0, ('Hanover', 'Cincinnati'): 1.5, ('Hanover', 'Alliance'): 0.0, ('Hanover', 'Leipzig'): 0.5, ('Hanover', 'Hyderabad'): 1.0, ('Hanover', 'San Bernadino'): 0.0, ('Bengaluru', 'Cincinnati'): 0.0, ('Bengaluru', 'Alliance'): 0.0, ('Bengaluru', 'Leipzig'): 1.5, ('Bengaluru', 'Hyderabad'): 0.5, ('Bengaluru', 'San Bernadino'): 0.0, ('Coimbatore', 'Cincinnati'): 0.0, ('Coimbatore', 'Alliance'): 0.0, ('Coimbatore', 'Leipzig'): 1.5, ('Coimbatore', 'Hyderabad'): 0.5, ('Coimbatore', 'San Bernadino'): 0.0, ('Delhi', 'Cincinnati'): 0.0, ('Delhi', 'Alliance'): 0.0, ('Delhi', 'Leipzig'): 1.5, ('Delhi', 'Hyderabad'): 0.5, ('Delhi', 'San Bernadino'): 0.0, ('Mumbai', 'Cincinnati'): 0.0, ('Mumbai', 'Alliance'): 0.0, ('Mumbai', 'Leipzig'): 1.5, ('Mumbai', 'Hyderabad'): 0.5, ('Mumbai', 'San Bernadino'): 0.0, ('Cagliari', 'Cincinnati'): 1.5, ('Cagliari', 'Alliance'): 0.0, ('Cagliari', 'Leipzig'): 0.5, ('Cagliari', 'Hyderabad'): 1.0, ('Cagliari', 'San Bernadino'): 0.0, ('Catania', 'Cincinnati'): 1.5, ('Catania', 'Alliance'): 0.0, ('Catania', 'Leipzig'): 0.5, ('Catania', 'Hyderabad'): 1.0, ('Catania', 'San Bernadino'): 0.0, ('Milan', 'Cincinnati'): 1.5, ('Milan', 'Alliance'): 0.0, ('Milan', 'Leipzig'): 0.5, ('Milan', 'Hyderabad'): 1.0, ('Milan', 'San Bernadino'): 0.0, ('Rome', 'Cincinnati'): 1.5, ('Rome', 'Alliance'): 0.0, ('Rome', 'Leipzig'): 0.5, ('Rome', 'Hyderabad'): 1.1, ('Rome', 'San Bernadino'): 0.0, ('Katowice', 'Cincinnati'): 1.4, ('Katowice', 'Alliance'): 0.0, ('Katowice', 'Leipzig'): 0.5, ('Katowice', 'Hyderabad'): 1.0, ('Katowice', 'San Bernadino'): 0.0, ('Barcelona', 'Cincinnati'): 1.5, ('Barcelona', 'Alliance'): 0.0, ('Barcelona', 'Leipzig'): 0.5, ('Barcelona', 'Hyderabad'): 1.0, ('Barcelona', 'San Bernadino'): 0.0, ('Madrid', 'Cincinnati'): 1.6, ('Madrid', 'Alliance'): 0.0, ('Madrid', 'Leipzig'): 0.5, ('Madrid', 'Hyderabad'): 1.1, ('Madrid', 'San Bernadino'): 0.0, ('Castle Donington', 'Cincinnati'): 1.4, ('Castle Donington', 'Alliance'): 0.0, ('Castle Donington', 'Leipzig'): 0.5, ('Castle Donington', 'Hyderabad'): 0.0, ('Castle Donington', 'San Bernadino'): 0.0, ('London', 'Cincinnati'): 1.6, ('London', 'Alliance'): 0.0, ('London', 'Leipzig'): 0.75, ('London', 'Hyderabad'): 1.1, ('London', 'San Bernadino'): 0.0, ('Mobile', 'Cincinnati'): 0.5, ('Mobile', 'Alliance'): 0.5, ('Mobile', 'Leipzig'): 0.0, ('Mobile', 'Hyderabad'): 0.0, ('Mobile', 'San Bernadino'): 0.5, ('Anchorage', 'Cincinnati'): 1.3, ('Anchorage', 'Alliance'): 1.0, ('Anchorage', 'Leipzig'): 0.0, ('Anchorage', 'Hyderabad'): 0.0, ('Anchorage', 'San Bernadino'): 0.7, ('Fairbanks', 'Cincinnati'): 1.4, ('Fairbanks', 'Alliance'): 1.0, ('Fairbanks', 'Leipzig'): 0.0, ('Fairbanks', 'Hyderabad'): 0.0, ('Fairbanks', 'San Bernadino'): 0.7, ('Phoenix', 'Cincinnati'): 0.5, ('Phoenix', 'Alliance'): 0.5, ('Phoenix', 'Leipzig'): 0.0, ('Phoenix', 'Hyderabad'): 0.0, ('Phoenix', 'San Bernadino'): 0.5, ('Los Angeles', 'Cincinnati'): 0.5, ('Los Angeles', 'Alliance'): 0.5, ('Los Angeles', 'Leipzig'): 0.0, ('Los Angeles', 'Hyderabad'): 0.0, ('Los Angeles', 'San Bernadino'): 0.0, ('Ontario', 'Cincinnati'): 0.5, ('Ontario', 'Alliance'): 0.5, ('Ontario', 'Leipzig'): 0.0, ('Ontario', 'Hyderabad'): 0.0, ('Ontario', 'San Bernadino'): 0.0, ('Riverside', 'Cincinnati'): 0.5, ('Riverside', 'Alliance'): 0.5, ('Riverside', 'Leipzig'): 0.0, ('Riverside', 'Hyderabad'): 0.0, ('Riverside', 'San Bernadino'): 0.0, ('Sacramento', 'Cincinnati'): 0.5, ('Sacramento', 'Alliance'): 0.5, ('Sacramento', 'Leipzig'): 0.0, ('Sacramento', 'Hyderabad'): 0.0, ('Sacramento', 'San Bernadino'): 0.5, ('San Francisco', 'Cincinnati'): 0.5, ('San Francisco', 'Alliance'): 0.5, ('San Francisco', 'Leipzig'): 0.0, ('San Francisco', 'Hyderabad'): 0.0, ('San Francisco', 'San Bernadino'): 0.5, ('Stockton', 'Cincinnati'): 0.5, ('Stockton', 'Alliance'): 0.5, ('Stockton', 'Leipzig'): 0.0, ('Stockton', 'Hyderabad'): 0.0, ('Stockton', 'San Bernadino'): 0.5, ('Denver', 'Cincinnati'): 0.5, ('Denver', 'Alliance'): 0.5, ('Denver', 'Leipzig'): 0.0, ('Denver', 'Hyderabad'): 0.0, ('Denver', 'San Bernadino'): 0.5, ('Hartford', 'Cincinnati'): 0.5, ('Hartford', 'Alliance'): 0.5, ('Hartford', 'Leipzig'): 1.5, ('Hartford', 'Hyderabad'): 0.0, ('Hartford', 'San Bernadino'): 0.5, ('Miami', 'Cincinnati'): 0.5, ('Miami', 'Alliance'): 0.5, ('Miami', 'Leipzig'): 0.0, ('Miami', 'Hyderabad'): 0.0, ('Miami', 'San Bernadino'): 0.7, ('Lakeland', 'Cincinnati'): 0.5, ('Lakeland', 'Alliance'): 0.5, ('Lakeland', 'Leipzig'): 0.0, ('Lakeland', 'Hyderabad'): 0.0, ('Lakeland', 'San Bernadino'): 0.7, ('Tampa', 'Cincinnati'): 0.5, ('Tampa', 'Alliance'): 0.5, ('Tampa', 'Leipzig'): 0.0, ('Tampa', 'Hyderabad'): 0.0, ('Tampa', 'San Bernadino'): 0.7, ('Atlanta', 'Cincinnati'): 0.5, ('Atlanta', 'Alliance'): 0.5, ('Atlanta', 'Leipzig'): 0.0, ('Atlanta', 'Hyderabad'): 0.0, ('Atlanta', 'San Bernadino'): 0.6, ('Honolulu', 'Cincinnati'): 0.0, ('Honolulu', 'Alliance'): 0.5, ('Honolulu', 'Leipzig'): 0.0, ('Honolulu', 'Hyderabad'): 0.0, ('Honolulu', 'San Bernadino'): 0.5, ('Kahului/Maui', 'Cincinnati'): 0.0, ('Kahului/Maui', 'Alliance'): 0.5, ('Kahului/Maui', 'Leipzig'): 0.0, ('Kahului/Maui', 'Hyderabad'): 0.0, ('Kahului/Maui', 'San Bernadino'): 0.5, ('Kona', 'Cincinnati'): 0.0, ('Kona', 'Alliance'): 0.5, ('Kona', 'Leipzig'): 0.0, ('Kona', 'Hyderabad'): 0.0, ('Kona', 'San Bernadino'): 0.5, ('Chicago', 'Cincinnati'): 0.5, ('Chicago', 'Alliance'): 0.5, ('Chicago', 'Leipzig'): 0.0, ('Chicago', 'Hyderabad'): 0.0, ('Chicago', 'San Bernadino'): 0.5, ('Chicago/Rockford', 'Cincinnati'): 0.5, ('Chicago/Rockford', 'Alliance'): 0.5, ('Chicago/Rockford', 'Leipzig'): 0.0, ('Chicago/Rockford', 'Hyderabad'): 0.0, ('Chicago/Rockford', 'San Bernadino'): 0.5, ('Fort Wayne', 'Cincinnati'): 0.5, ('Fort Wayne', 'Alliance'): 0.5, ('Fort Wayne', 'Leipzig'): 0.0, ('Fort Wayne', 'Hyderabad'): 0.0, ('Fort Wayne', 'San Bernadino'): 0.5, ('South Bend', 'Cincinnati'): 0.5, ('South Bend', 'Alliance'): 0.5, ('South Bend', 'Leipzig'): 0.0, ('South Bend', 'Hyderabad'): 0.0, ('South Bend', 'San Bernadino'): 0.5, ('Des Moines', 'Cincinnati'): 0.5, ('Des Moines', 'Alliance'): 0.5, ('Des Moines', 'Leipzig'): 0.0, ('Des Moines', 'Hyderabad'): 0.0, ('Des Moines', 'San Bernadino'): 0.5, ('Wichita', 'Cincinnati'): 0.5, ('Wichita', 'Alliance'): 0.5, ('Wichita', 'Leipzig'): 0.0, ('Wichita', 'Hyderabad'): 0.0, ('Wichita', 'San Bernadino'): 0.5, ('New Orleans', 'Cincinnati'): 0.5, ('New Orleans', 'Alliance'): 0.5, ('New Orleans', 'Leipzig'): 0.0, ('New Orleans', 'Hyderabad'): 0.0, ('New Orleans', 'San Bernadino'): 0.5, ('Baltimore', 'Cincinnati'): 0.5, ('Baltimore', 'Alliance'): 0.5, ('Baltimore', 'Leipzig'): 1.5, ('Baltimore', 'Hyderabad'): 0.0, ('Baltimore', 'San Bernadino'): 0.7, ('Minneapolis', 'Cincinnati'): 0.5, ('Minneapolis', 'Alliance'): 0.5, ('Minneapolis', 'Leipzig'): 0.0, ('Minneapolis', 'Hyderabad'): 0.0, ('Minneapolis', 'San Bernadino'): 0.5, ('Kansas City', 'Cincinnati'): 0.5, ('Kansas City', 'Alliance'): 0.5, ('Kansas City', 'Leipzig'): 0.0, ('Kansas City', 'Hyderabad'): 0.0, ('Kansas City', 'San Bernadino'): 0.5, ('St. Louis', 'Cincinnati'): 0.5, ('St. Louis', 'Alliance'): 0.5, ('St. Louis', 'Leipzig'): 0.0, ('St. Louis', 'Hyderabad'): 0.0, ('St. Louis', 'San Bernadino'): 0.5, ('Omaha', 'Cincinnati'): 0.5, ('Omaha', 'Alliance'): 0.5, ('Omaha', 'Leipzig'): 0.0, ('Omaha', 'Hyderabad'): 0.0, ('Omaha', 'San Bernadino'): 0.5, ('Manchester', 'Cincinnati'): 0.5, ('Manchester', 'Alliance'): 0.5, ('Manchester', 'Leipzig'): 1.5, ('Manchester', 'Hyderabad'): 0.0, ('Manchester', 'San Bernadino'): 0.7, ('Albuquerque', 'Cincinnati'): 0.5, ('Albuquerque', 'Alliance'): 0.5, ('Albuquerque', 'Leipzig'): 0.0, ('Albuquerque', 'Hyderabad'): 0.0, ('Albuquerque', 'San Bernadino'): 0.5, ('New York', 'Cincinnati'): 0.5, ('New York', 'Alliance'): 0.5, ('New York', 'Leipzig'): 1.6, ('New York', 'Hyderabad'): 0.0, ('New York', 'San Bernadino'): 0.7, ('Charlotte', 'Cincinnati'): 0.5, ('Charlotte', 'Alliance'): 0.5, ('Charlotte', 'Leipzig'): 0.0, ('Charlotte', 'Hyderabad'): 0.0, ('Charlotte', 'San Bernadino'): 0.7, ('Toledo', 'Cincinnati'): 0.5, ('Toledo', 'Alliance'): 0.5, ('Toledo', 'Leipzig'): 0.0, ('Toledo', 'Hyderabad'): 0.0, ('Toledo', 'San Bernadino'): 0.5, ('Wilmington', 'Cincinnati'): 0.5, ('Wilmington', 'Alliance'): 0.5, ('Wilmington', 'Leipzig'): 0.0, ('Wilmington', 'Hyderabad'): 0.0, ('Wilmington', 'San Bernadino'): 0.7, ('Portland', 'Cincinnati'): 0.5, ('Portland', 'Alliance'): 0.5, ('Portland', 'Leipzig'): 0.0, ('Portland', 'Hyderabad'): 0.0, ('Portland', 'San Bernadino'): 0.5, ('Allentown', 'Cincinnati'): 0.5, ('Allentown', 'Alliance'): 0.5, ('Allentown', 'Leipzig'): 1.5, ('Allentown', 'Hyderabad'): 0.0, ('Allentown', 'San Bernadino'): 0.7, ('Pittsburgh', 'Cincinnati'): 0.5, ('Pittsburgh', 'Alliance'): 0.5, ('Pittsburgh', 'Leipzig'): 0.0, ('Pittsburgh', 'Hyderabad'): 0.0, ('Pittsburgh', 'San Bernadino'): 0.6, ('San Juan', 'Cincinnati'): 0.5, ('San Juan', 'Alliance'): 0.5, ('San Juan', 'Leipzig'): 0.0, ('San Juan', 'Hyderabad'): 0.0, ('San Juan', 'San Bernadino'): 1.0, ('Nashville', 'Cincinnati'): 0.5, ('Nashville', 'Alliance'): 0.5, ('Nashville', 'Leipzig'): 0.0, ('Nashville', 'Hyderabad'): 0.0, ('Nashville', 'San Bernadino'): 0.5, ('Austin', 'Cincinnati'): 0.5, ('Austin', 'Alliance'): 0.25, ('Austin', 'Leipzig'): 0.0, ('Austin', 'Hyderabad'): 0.0, ('Austin', 'San Bernadino'): 0.5, ('Dallas/Fort Worth', 'Cincinnati'): 0.5, ('Dallas/Fort Worth', 'Alliance'): 0.0, ('Dallas/Fort Worth', 'Leipzig'): 0.0, ('Dallas/Fort Worth', 'Hyderabad'): 0.0, ('Dallas/Fort Worth', 'San Bernadino'): 0.5, ('Houston', 'Cincinnati'): 0.5, ('Houston', 'Alliance'): 0.25, ('Houston', 'Leipzig'): 0.0, ('Houston', 'Hyderabad'): 0.0, ('Houston', 'San Bernadino'): 0.5, ('San Antonio', 'Cincinnati'): 0.5, ('San Antonio', 'Alliance'): 0.25, ('San Antonio', 'Leipzig'): 0.0, ('San Antonio', 'Hyderabad'): 0.0, ('San Antonio', 'San Bernadino'): 0.5, ('Richmond', 'Cincinnati'): 0.5, ('Richmond', 'Alliance'): 0.5, ('Richmond', 'Leipzig'): 0.0, ('Richmond', 'Hyderabad'): 0.0, ('Richmond', 'San Bernadino'): 0.7, ('Seattle/Tacoma', 'Cincinnati'): 0.5, ('Seattle/Tacoma', 'Alliance'): 0.5, ('Seattle/Tacoma', 'Leipzig'): 0.0, ('Seattle/Tacoma', 'Hyderabad'): 0.0, ('Seattle/Tacoma', 'San Bernadino'): 0.5, ('Spokane', 'Cincinnati'): 0.5, ('Spokane', 'Alliance'): 0.5, ('Spokane', 'Leipzig'): 0.0, ('Spokane', 'Hyderabad'): 0.0, ('Spokane', 'San Bernadino'): 0.5}\n"
          ]
        }
      ],
      "source": [
        "# Convert to dictionary with tuple keys and cell values\n",
        "result_dict = {(row, col): centers_dist.at[row, col] for row in centers_dist.index for col in centers_dist.columns}\n",
        "\n",
        "# Output the result\n",
        "print(result_dict)\n"
      ]
    },
    {
      "cell_type": "code",
      "execution_count": 164,
      "metadata": {
        "colab": {
          "base_uri": "https://localhost:8080/"
        },
        "id": "TCRilUroXMXP",
        "outputId": "ac6fa8d7-24af-4c40-eb8e-43bbe237ad76"
      },
      "outputs": [
        {
          "name": "stdout",
          "output_type": "stream",
          "text": [
            "Status: Optimal\n",
            "Ship 4416.0 tons from CVG to Bangalore\n",
            "Ship 185.0 tons from CVG to Catania\n",
            "Ship 170.0 tons from CVG to Katowice\n",
            "Ship 3700.0 tons from CVG to Madrid\n",
            "Ship 30.0 tons from CVG to Castle Donington\n",
            "Ship 38.0 tons from CVG to Fairbanks\n",
            "Ship 2400.0 tons from CVG to Phoenix\n",
            "Ship 540.0 tons from CVG to Hartford\n",
            "Ship 185.0 tons from CVG to Lakeland\n",
            "Ship 450.0 tons from CVG to Albuquerque\n",
            "Ship 1000.0 tons from CVG to Pittsburgh\n",
            "Ship 2000.0 tons from CVG to Seattle/Tacoma\n",
            "Ship 260.0 tons from CVG to Spokane\n",
            "Ship 4596.0 tons from AFW to Paris\n",
            "Ship 4684.0 tons from AFW to Bangalore\n",
            "Ship 570.0 tons from AFW to Coimbatore\n",
            "Ship 19000.0 tons from AFW to Delhi\n",
            "Ship 3400.0 tons from AFW to Miami\n",
            "Ship 480.0 tons from AFW to Omaha\n",
            "Ship 11200.0 tons from AFW to New York\n",
            "Ship 420.0 tons from AFW to Allentown\n",
            "Ship 640.0 tons from Leipzig to Cologne\n",
            "Ship 1700.0 tons from Leipzig to Rome\n",
            "Ship 2800.0 tons from Leipzig to Barcelona\n",
            "Ship 7200.0 tons from Leipzig to Los Angeles\n",
            "Ship 1100.0 tons from Leipzig to Sacramento\n",
            "Ship 1500.0 tons from Leipzig to Denver\n",
            "Ship 3000.0 tons from Leipzig to Atlanta\n",
            "Ship 63.0 tons from Leipzig to Kona\n",
            "Ship 172.0 tons from Leipzig to Rockford\n",
            "Ship 1300.0 tons from Leipzig to Baltimore\n",
            "Ship 100.0 tons from Leipzig to Manchester\n",
            "Ship 975.0 tons from Leipzig to Austin\n",
            "Ship 3300.0 tons from Leipzig to Dallas\n",
            "Ship 3300.0 tons from Leipzig to Houston\n",
            "Ship 600.0 tons from Leipzig to Richmond\n",
            "Ship 180.0 tons from Hyderabad to Hanover\n",
            "Ship 90.0 tons from Hyderabad to Cagliari\n",
            "Ship 800.0 tons from Hyderabad to Milan\n",
            "Ship 190.0 tons from Hyderabad to Mobile\n",
            "Ship 100.0 tons from Hyderabad to Ontario\n",
            "Ship 1200.0 tons from Hyderabad to Riverside\n",
            "Ship 240.0 tons from Hyderabad to Stockton\n",
            "Ship 5100.0 tons from Hyderabad to Chicago\n",
            "Ship 173.0 tons from Hyderabad to South Bend\n",
            "Ship 300.0 tons from Hyderabad to Des Moines\n",
            "Ship 550.0 tons from Hyderabad to New Orleans\n",
            "Ship 1200.0 tons from Hyderabad to St. Louis\n",
            "Ship 150.0 tons from Hyderabad to Wilmington\n",
            "Ship 1904.0 tons from San Bernardino to Paris\n",
            "Ship 14800.0 tons from San Bernardino to Mumbai\n",
            "Ship 6700.0 tons from San Bernardino to London\n",
            "Ship 175.0 tons from San Bernardino to Anchorage\n",
            "Ship 1900.0 tons from San Bernardino to San Francisco\n",
            "Ship 1600.0 tons from San Bernardino to Tampa\n",
            "Ship 500.0 tons from San Bernardino to Honolulu\n",
            "Ship 16.0 tons from San Bernardino to Kahului/Maui\n",
            "Ship 200.0 tons from San Bernardino to Fort Wayne\n",
            "Ship 290.0 tons from San Bernardino to Wichita\n",
            "Ship 1700.0 tons from San Bernardino to Minneapolis\n",
            "Ship 975.0 tons from San Bernardino to Kansas City\n",
            "Ship 900.0 tons from San Bernardino to Charlotte\n",
            "Ship 290.0 tons from San Bernardino to Toledo\n",
            "Ship 1200.0 tons from San Bernardino to Portland\n",
            "Ship 1100.0 tons from San Bernardino to San Juan\n",
            "Ship 650.0 tons from San Bernardino to Nashville\n",
            "Ship 1100.0 tons from San Bernardino to San Antonio\n",
            "There are 67 routes with a Total Cost of: $ 13374700.0\n"
          ]
        }
      ],
      "source": [
        "# Create variables\n",
        "vars = pulp.LpVariable.dicts(\"Route\",\n",
        "                             ((i, j) for i in hubs + focus_cities for j in centers),\n",
        "                             lowBound=0,\n",
        "                             cat='Continuous')\n",
        "routes_count = 0\n",
        "\n",
        "# Objective function\n",
        "prob += pulp.lpSum([vars[i, j] * result_dict.get((i, j), 100) for i in hubs + focus_cities for j in centers])\n",
        "\n",
        "# Constraints\n",
        "for j in centers:\n",
        "    prob += pulp.lpSum([vars[i, j] for i in hubs + focus_cities]) >= demands[j]\n",
        "\n",
        "for i in hubs + focus_cities:\n",
        "    prob += pulp.lpSum([vars[i, j] for j in centers]) <= capacities[i]\n",
        "\n",
        "# Solve the problem\n",
        "prob.solve()\n",
        "\n",
        "# Print the results\n",
        "print(\"Status:\", pulp.LpStatus[prob.status])\n",
        "for i in hubs + focus_cities:\n",
        "    for j in centers:\n",
        "        if vars[i, j].value() > 0:\n",
        "            routes_count += 1\n",
        "            print(f\"Ship {vars[i, j].value()} tons from {i} to {j}\")\n",
        "            #print(f\"The\")\n",
        "print(f\"There are {routes_count} routes with a Total Cost of: $\", pulp.value(prob.objective))\n"
      ]
    }
  ],
  "metadata": {
    "colab": {
      "provenance": []
    },
    "kernelspec": {
      "display_name": "Python 3",
      "name": "python3"
    },
    "language_info": {
      "name": "python"
    }
  },
  "nbformat": 4,
  "nbformat_minor": 0
}
